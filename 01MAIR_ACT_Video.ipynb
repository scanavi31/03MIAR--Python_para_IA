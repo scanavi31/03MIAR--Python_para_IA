{
  "cells": [
    {
      "cell_type": "markdown",
      "metadata": {
        "id": "view-in-github",
        "colab_type": "text"
      },
      "source": [
        "<a href=\"https://colab.research.google.com/github/scanavi31/03MIAR--Python_para_IA/blob/main/01MAIR_ACT_Video.ipynb\" target=\"_parent\"><img src=\"https://colab.research.google.com/assets/colab-badge.svg\" alt=\"Open In Colab\"/></a>"
      ]
    },
    {
      "cell_type": "markdown",
      "metadata": {
        "id": "PcTl2ue45Rky"
      },
      "source": [
        "<img src=\"/drive/my-drive/viu_logo.png\" width=\"200\">\n",
        "\n",
        "## 01MIAR - Actividad Video Valenbici\n",
        "\n",
        "## NumPy y Pandas\n",
        "\n",
        "### Objetivos:\n",
        "- Aplicar diferentes técnicas de tratamiento de estructuras numéricas con Numpy y datos estructurados con Pandas.\n",
        "\n",
        "### Instrucciones:\n",
        "- Crear un notebook de Python3 que servirá como entrega de la actividad.\n",
        "- Separar bien los apartados propuestos con celdas Markdown.\n",
        "- Mantener una estructura limpia, comentando código y secuenciando los apartados con el código correspondiente que resuelva la actividad.\n",
        "- Como criterio de evaluación se tendrá en cuenta el resultado, la consecución del mismo, estilo, comentarios y adecuación. Siempre será tenido en cuenta cualquier detalle técnico avanzado o no visto en clase relacionado con el tema (explicar el porqué y usabilidad).\n",
        "- No está permitido compartir los resultados ni el código en ninguno de los foros.\n",
        "- Revisar los temas 3 y 4, así como las sesiones sobre Numpy y Pandas para aplicar dichos contenidos.\n",
        "\n",
        "### Entrega:\n",
        "- Un solo documento en formato notebook: .ipynb\n",
        "- Las entregas sólo serán validas si se realizan a través del site de la asignatura: Actividades, Actividad Video.\n",
        "\n",
        "### Evaluación\n",
        "- Esta actividad corresponde con el 10% de la nota final de la asignatura.\n",
        "\n",
        "### Fecha Entrega\n",
        "- Convocatoria 1 - 12/12/2022\n",
        "- Convocatoria 2 - 06/03/2023"
      ]
    },
    {
      "cell_type": "markdown",
      "metadata": {
        "id": "ChEEj5X55Rk7"
      },
      "source": [
        "#### Descripción\n",
        "El conjunto de datos \"estaciones_bici.csv\" (fichero disponible en carpeta videos/res en drive) proviene de una descarga de datos del servicio web de la empresa municipal Valenbici, dedicada al alquiler de bicicletas en Valencia.\n",
        "\n",
        "Los datos recabados de este servicio web son de mediciones cada 15 minutos de cada una de las estaciones disponibles:\n",
        "\n",
        "http://www.valenbisi.es/service/carto/json\n",
        "\n",
        "Cada estación está compuesta por un número variable de bornetas (total) donde se pueden anclar las bicicletas. Los datos obtenidos de cada estación (registros) refleja el número de bornetas libres (free) y el número de bicicletas disponibles (available).\n",
        "\n",
        "http://www.valenbisi.es/service/stationdetails/valence/[número de estación]\n",
        "\n",
        "#### Columnas para trabajar:\n",
        "- station: id de la estación\n",
        "- total: número total de bornetas\n",
        "- download_date: timestamp de la descarga de datos\n",
        "- available: número de bicis disponibles\n",
        "\n",
        "#### Actividad\n",
        "- 01 - Carga de datos de csv (estaciones_bici.csv) en un DataFrame\n",
        "- 02 - Obtención del número de estaciones que tienen un total de 30 bornetas\n",
        "- 03 - Número de estación con la media más alta de bicis disponibles\n",
        "- 04 - Realizar el histograma de bicis disponibles de la estación del punto anterior\n",
        "- 05 - Realizar gráfica con  la línea temporal de bicis disponibles de la estación del punto anterior. Pista, es necesario cambiar el índice a uno tipo fecha"
      ]
    },
    {
      "cell_type": "markdown",
      "source": [
        "**DESARROLLO DE LA ACTIVIDAD**"
      ],
      "metadata": {
        "id": "3OBeSutM6Yfn"
      }
    },
    {
      "cell_type": "markdown",
      "source": [
        "***01 - Carga de datos de csv (estaciones_bici.csv) en un DataFrame***"
      ],
      "metadata": {
        "id": "wMhfMF8Y6oCA"
      }
    },
    {
      "cell_type": "code",
      "source": [
        "from google.colab import drive\n",
        "drive.mount('/content/drive')"
      ],
      "metadata": {
        "colab": {
          "base_uri": "https://localhost:8080/"
        },
        "id": "-IW9pqOP_5S5",
        "outputId": "4f0df37c-18a2-4356-b9b2-9579197e8020"
      },
      "execution_count": 33,
      "outputs": [
        {
          "output_type": "stream",
          "name": "stdout",
          "text": [
            "Drive already mounted at /content/drive; to attempt to forcibly remount, call drive.mount(\"/content/drive\", force_remount=True).\n"
          ]
        }
      ]
    },
    {
      "cell_type": "code",
      "source": [
        "import pandas as pd\n",
        "\n",
        "url = 'https://raw.githubusercontent.com/scanavi31/03MIAR--Python_para_IA/main/estaciones_bici.csv'\n",
        "df = pd.read_csv(url,sep=';')\n",
        "# Ver las primeras 5 filas\n",
        "print(df.head())"
      ],
      "metadata": {
        "colab": {
          "base_uri": "https://localhost:8080/"
        },
        "id": "dRMjmj8-6vrE",
        "outputId": "e6df2e17-843a-4b11-a0d3-a62d77382768"
      },
      "execution_count": 34,
      "outputs": [
        {
          "output_type": "stream",
          "name": "stdout",
          "text": [
            "   Unnamed: 0                       _id  available  connected  \\\n",
            "0           0  5c6050a42554172704fccdc0          9          1   \n",
            "1           1  5c6050a42554172704fccdc1          6          1   \n",
            "2           2  5c605be225541729b7d50885         20          1   \n",
            "3           3  5c605be225541729b7d50886          6          1   \n",
            "4           4  5c605be225541729b7d50887          9          1   \n",
            "\n",
            "             download_date  station  free  open  ticket  total  \\\n",
            "0  2019-02-10 17:25:37.787       64    11     1       0     20   \n",
            "1  2019-02-10 17:25:37.787       73    14     1       1     20   \n",
            "2  2019-02-10 18:13:39.827       63     0     1       1     20   \n",
            "3  2019-02-10 18:13:39.827       64    14     1       0     20   \n",
            "4  2019-02-10 18:13:39.827       65    10     1       1     19   \n",
            "\n",
            "                   updated  \n",
            "0  2019-02-10 17:21:13.000  \n",
            "1  2019-02-10 17:24:13.000  \n",
            "2  2019-02-10 18:09:16.000  \n",
            "3  2019-02-10 18:12:15.000  \n",
            "4  2019-02-10 18:09:16.000  \n"
          ]
        }
      ]
    },
    {
      "cell_type": "markdown",
      "source": [
        "***02 - Obtención del número de estaciones que tienen un total de 30 bornetas***"
      ],
      "metadata": {
        "id": "kovBi0hV70zx"
      }
    },
    {
      "cell_type": "code",
      "source": [
        "bornetas = df[df['total'] == 30]\n",
        "num_bornetas = len(bornetas)\n",
        "print(\"Número de estaciones con un total de 30 bornetas:\", num_bornetas)\n"
      ],
      "metadata": {
        "colab": {
          "base_uri": "https://localhost:8080/"
        },
        "id": "U_gS7bFd76ZW",
        "outputId": "c638ca73-205e-448e-b861-82adbdfd4923"
      },
      "execution_count": 35,
      "outputs": [
        {
          "output_type": "stream",
          "name": "stdout",
          "text": [
            "Número de estaciones con un total de 30 bornetas: 1098\n"
          ]
        }
      ]
    },
    {
      "cell_type": "markdown",
      "source": [
        "***03 - Número de estación con la media más alta de bicis disponibles***"
      ],
      "metadata": {
        "id": "08-CLM04Bcne"
      }
    },
    {
      "cell_type": "code",
      "source": [
        "estaciones_por_media = df.groupby('station')['available'].mean().reset_index()\n",
        "estacion_media_alta = estaciones_por_media.sort_values('available', ascending=False).iloc[0]['station']\n",
        "print(\"Número de estación con la media más alta de bicis disponibles:\", estacion_media_alta)\n"
      ],
      "metadata": {
        "colab": {
          "base_uri": "https://localhost:8080/"
        },
        "id": "65CK7v7tBb1N",
        "outputId": "5bddfd6e-de4c-4eb2-ab40-9de13c02afe9"
      },
      "execution_count": 36,
      "outputs": [
        {
          "output_type": "stream",
          "name": "stdout",
          "text": [
            "Número de estación con la media más alta de bicis disponibles: 50.0\n"
          ]
        }
      ]
    },
    {
      "cell_type": "markdown",
      "source": [
        "***04 - Realizar el histograma de bicis disponibles de la estación del punto anterior***"
      ],
      "metadata": {
        "id": "DsAAL6fAB8xm"
      }
    },
    {
      "cell_type": "code",
      "source": [
        "import matplotlib.pyplot as plt\n",
        "\n",
        "estacion_seleccionada = df[df['station'] == estacion_media_alta]\n",
        "bicis_disponibles = estacion_seleccionada['available']\n",
        "plt.hist(bicis_disponibles, bins=20)\n",
        "plt.xlabel('Número de bicis disponibles')\n",
        "plt.ylabel('Frecuencia')\n",
        "plt.title('Histograma de bicis disponibles en la estación {}'.format(estacion_media_alta))\n",
        "plt.show()\n"
      ],
      "metadata": {
        "colab": {
          "base_uri": "https://localhost:8080/",
          "height": 296
        },
        "id": "1iOVg9ziCC8E",
        "outputId": "87290725-081b-424c-954c-181b787e187d"
      },
      "execution_count": 37,
      "outputs": [
        {
          "output_type": "display_data",
          "data": {
            "text/plain": [
              "<Figure size 432x288 with 1 Axes>"
            ],
            "image/png": "[encoded data removed]"
          },
          "metadata": {
            "needs_background": "light"
          }
        }
      ]
    },
    {
      "cell_type": "markdown",
      "source": [
        "***05 - Realizar gráfica con la línea temporal de bicis disponibles de la estación del punto anterior. Pista, es necesario cambiar el índice a uno tipo fecha***"
      ],
      "metadata": {
        "id": "r8U9qZVDCX8I"
      }
    },
    {
      "cell_type": "code",
      "source": [
        "# Seleccionar solo las filas correspondientes a la estación 50\n",
        "df = df[df['station'] == 50.0]\n",
        "\n",
        "# Establecer la columna \"download_date\" como índice y convertirla a un objeto de fecha y hora\n",
        "df = df.set_index(pd.to_datetime(df['download_date']))\n",
        "\n",
        "# Trazar la columna \"available\"\n",
        "df['available'].plot()\n",
        "\n",
        "# Añadir etiquetas y título\n",
        "plt.xlabel('Fecha')\n",
        "plt.ylabel('Bicicletas disponibles')\n",
        "plt.title('Bicicletas disponibles en la estación 50')\n",
        "plt.show()"
      ],
      "metadata": {
        "colab": {
          "base_uri": "https://localhost:8080/",
          "height": 295
        },
        "id": "XJNdPUFCDAEA",
        "outputId": "51325042-810c-492e-d166-76a736509b03"
      },
      "execution_count": 38,
      "outputs": [
        {
          "output_type": "display_data",
          "data": {
            "text/plain": [
              "<Figure size 432x288 with 1 Axes>"
            ],
            "image/png": "[encoded data removed]"
          },
          "metadata": {
            "needs_background": "light"
          }
        }
      ]
    }
  ],
  "metadata": {
    "kernelspec": {
      "display_name": "Python 3 (ipykernel)",
      "language": "python",
      "name": "python3"
    },
    "language_info": {
      "codemirror_mode": {
        "name": "ipython",
        "version": 3
      },
      "file_extension": ".py",
      "mimetype": "text/x-python",
      "name": "python",
      "nbconvert_exporter": "python",
      "pygments_lexer": "ipython3",
      "version": "3.9.13"
    },
    "colab": {
      "provenance": [],
      "include_colab_link": true
    }
  },
  "nbformat": 4,
  "nbformat_minor": 0
}