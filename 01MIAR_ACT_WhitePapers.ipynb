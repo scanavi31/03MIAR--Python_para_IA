{
  "cells": [
    {
      "cell_type": "markdown",
      "metadata": {
        "id": "view-in-github",
        "colab_type": "text"
      },
      "source": [
        "<a href=\"https://colab.research.google.com/github/scanavi31/03MIAR--Python_para_IA/blob/main/01MIAR_ACT_WhitePapers.ipynb\" target=\"_parent\"><img src=\"https://colab.research.google.com/assets/colab-badge.svg\" alt=\"Open In Colab\"/></a>"
      ]
    },
    {
      "cell_type": "markdown",
      "metadata": {
        "id": "S9m1xmS8i4YN"
      },
      "source": [
        "<img src=\"../img/viu_logo.png\" width=\"200\">\n",
        "\n",
        "## 01MIAR - Actividad Whitepapers\n",
        "\n",
        "## NumPy y Pandas\n",
        "\n",
        "### Objetivos:\n",
        "- Leer y analizar críticamente dos artículos científicos.\n",
        "\n",
        "### Instrucciones:\n",
        "- Crear un notebook de Python3 que servirá como entrega de la actividad.\n",
        "- Separar bien los apartados propuestos con celdas Markdown.\n",
        "- Mantener una estructura limpia, comentando código y secuenciando los apartados con el código correspondiente que resuelva la actividad.\n",
        "- Como criterio de evaluación se tendrá en cuenta el resultado, la consecución del mismo, estilo, comentarios y adecuación. Siempre será tenido en cuenta cualquier detalle técnico avanzado o no visto en clase relacionado con el tema (explicar el porqué y usabilidad).\n",
        "- No está permitido compartir los resultados ni el código en ninguno de los foros.\n",
        "- Revisar los temas 3 y 4, así como las sesiones sobre Numpy y Pandas para aplicar dichos contenidos.\n",
        "\n",
        "### Entrega:\n",
        "- Un solo documento en formato notebook: .ipynb\n",
        "- Las entregas sólo serán validas si se realizan a través del site de la asignatura: Actividades, Actividad WhitePapers.\n",
        "\n",
        "### Evaluación\n",
        "- Esta actividad corresponde con el 10% de la nota final de la asignatura.\n",
        "\n",
        "### Fecha Entrega\n",
        "- Convocatoria 1 - 12/12/2022\n",
        "- Convocatoria 2 - 06/03/2023"
      ]
    },
    {
      "cell_type": "markdown",
      "metadata": {
        "id": "aAPtv-_xi4YU"
      },
      "source": [
        "## Artículo 01\n",
        "\n",
        "### The NumPy array: a structure for efficient numerical computation\n",
        "\n",
        "Van Der Walt, S., Colbert, S. C., &amp; Varoquaux, G. (2011). The NumPy array: A\n",
        "structure for efficient numerical computation. Computing in Science and\n",
        "Engineering, 13(2), 22-30. https://doi.org/10.1109/MCSE.2011.37\n",
        "\n",
        "https://www.researchgate.net/publication/224223550_The_NumPy_Array_A_Structure_for_Efficient_Numerical_Computation\n",
        "\n",
        "En este artículo se presenta la estructura *ndarray* de NumPy, y se hace un estudio sobre su uso y cómo mejora el rendimiento de ciertas operaciones matemáticas para la computación numérica.\n",
        "\n",
        "Se hace una breve introducción al *Broadcasting* como técnica que usa NumPy para realizar operaciones artiméticas sobre dos o más arrays con distintas dimensiones. \n",
        "\n",
        "- Actividad 01.01 - Ampliar dicha explicación, aportando posibles restricciones o limitaciones a dicho sistema y ejemplos propios de los casos de uso.\n",
        "\n",
        "También se introduce el trabajo con ficheros usando memoria mapeada.\n",
        "\n",
        "- Actividad 01.02 - Verificar la eficacia y mejora posible de rendimiento del uso de memoria mapeada sobre ndarrays de tamaños grandes."
      ]
    },
    {
      "cell_type": "markdown",
      "source": [
        "**Vectorización**\n",
        "\n",
        "se refiere a la práctica de escribir operaciones en términos de matrices y vectores en lugar de iterar sobre los elementos de las matrices y vectores como tradicionalmente se realizaba o en algunos lenguajes de programación se realizan con cilos for o while. \n",
        "\n",
        "A continuación, se presentan algunas ventajas clave de la vectorización en NumPy:\n",
        "\n",
        "1. Rendimiento mejorado: NumPy utiliza código C/C++ optimizado en segundo plano para realizar operaciones vectorizadas. Esto puede resultar en un rendimiento significativamente mejorado en comparación con el código escrito en Python puro que utiliza bucles.\n",
        "\n",
        "2. Simplificación del código: La vectorización en NumPy a menudo permite que el código se escriba de una manera más simple y legible. En lugar de tener que escribir bucles explícitos para realizar operaciones en cada elemento de una matriz, se puede simplemente aplicar una operación a toda la matriz en un solo paso.\n",
        "\n",
        "3. Funciones universales: NumPy tiene una gran cantidad de funciones universales que son vectorizadas por defecto. Esto significa que estas funciones se aplican a cada elemento de una matriz o vector sin necesidad de escribir un bucle explícito.\n",
        "\n",
        "4. Facilita la implementación de algoritmos complejos: La vectorización permite implementar de manera más sencilla algoritmos complejos que implican cálculos con matrices y vectores. Por ejemplo, la multiplicación de matrices se puede realizar mediante una simple operación de producto de matrices en lugar de tener que escribir bucles anidados.\n",
        "\n",
        "En general, la vectorización en NumPy puede mejorar significativamente el rendimiento y la legibilidad del código, y puede hacer que la implementación de algoritmos complejos sea mucho más sencilla."
      ],
      "metadata": {
        "id": "LHKdzNeUoXqH"
      }
    },
    {
      "cell_type": "markdown",
      "source": [
        "*Ejemplo*"
      ],
      "metadata": {
        "id": "edIxqYvIpMa4"
      }
    },
    {
      "cell_type": "code",
      "source": [
        "import numpy as np\n",
        "\n",
        "a = np.array([[5, 2], [6, 4]])\n",
        "b = np.array([[5, 7], [7, 2]])\n",
        "\n",
        "# Suma de las dos matrices de forma vectorizada\n",
        "c = a + b\n",
        "\n",
        "# Multiply the arrays element-wise\n",
        "d = a * b\n",
        "\n",
        "# Compute the dot product of the arrays\n",
        "e = np.dot(a, b)\n",
        "\n",
        "print(\"Suma \")\n",
        "print(c)\n",
        "print(\"Multiplicación\")\n",
        "print(d)\n",
        "print(\"Producto . \")\n",
        "print(e)"
      ],
      "metadata": {
        "colab": {
          "base_uri": "https://localhost:8080/"
        },
        "id": "yocVobmipQuz",
        "outputId": "adf267f5-a146-439c-b6e9-8a4dd07f0af9"
      },
      "execution_count": 8,
      "outputs": [
        {
          "output_type": "stream",
          "name": "stdout",
          "text": [
            "Suma \n",
            "[[10  9]\n",
            " [13  6]]\n",
            "Multiplicación\n",
            "[[25 14]\n",
            " [42  8]]\n",
            "Producto . \n",
            "[[39 39]\n",
            " [58 50]]\n"
          ]
        }
      ]
    },
    {
      "cell_type": "markdown",
      "source": [
        "**El Broadcasting**\n",
        "\n",
        "es una técnica en NumPy que permite realizar operaciones aritméticas sobre dos o más arrays con distintas dimensiones. Esta técnica es muy útil para evitar la creación de bucles for y, por tanto, mejorar el rendimiento del código. \n",
        "\n",
        "Pero, esto tiene también algunas restricciones y limitaciones que se deben tener en cuenta en el momento de usar el Broadcasting, a continuación, se menciona algunas de ellas:\n",
        "\n",
        "\n",
        "1. Dimensiones incompatibles: para que se pueda realizar Broadcasting, las dimensiones de los arrays deben ser compatibles. Es decir, deben ser iguales o una de ellas debe ser igual a 1. Si no se cumplen estas condiciones, se producirá un error.\n",
        "\n",
        "2. Memoria: Broadcasting permite realizar operaciones sin necesidad de copiar datos en nuevas matrices, lo que ahorra memoria. Sin embargo, si los arrays son demasiado grandes, puede que la memoria se agote.\n",
        "\n",
        "3. Tipo de datos: los arrays que se utilizan en una operación aritmética deben tener el mismo tipo de datos. Si los tipos de datos son diferentes, NumPy intentará convertirlos automáticamente, pero esto puede provocar pérdida de precisión o errores."
      ],
      "metadata": {
        "id": "gbXIwpBZjFnP"
      }
    },
    {
      "cell_type": "code",
      "source": [
        "# Creamos dos arrays con dimensiones diferentes\n",
        "a = np.array([19, 82, 30])\n",
        "b = np.array([[3], [9], [7]])\n",
        "\n",
        "# Realizamos una operación aritmética con Broadcasting\n",
        "c = a + b\n",
        "\n",
        "# Imprimimos el resultado\n",
        "print(c)"
      ],
      "metadata": {
        "colab": {
          "base_uri": "https://localhost:8080/"
        },
        "id": "wSajUXy9qXKp",
        "outputId": "2e7a4b18-0d8b-496f-b033-05a765b869b8"
      },
      "execution_count": 4,
      "outputs": [
        {
          "output_type": "stream",
          "name": "stdout",
          "text": [
            "[[22 85 33]\n",
            " [28 91 39]\n",
            " [26 89 37]]\n"
          ]
        }
      ]
    },
    {
      "cell_type": "markdown",
      "source": [
        "**Vectorización y Broadcasting**\n"
      ],
      "metadata": {
        "id": "bXzkIozSsiiE"
      }
    },
    {
      "cell_type": "markdown",
      "source": [
        "*Ejemplo implementación*\n",
        "\n",
        "se quiere resolver la ecuación lineal ax + b = c, donde a, b y c son vectores de NumPy. En lugar de usar un bucle para recorrer cada elemento de los vectores y resolver la ecuación uno por uno, podemos aprovechar la vectorización y el broadcasting de NumPy para resolver la ecuación en una sola operación.\n",
        "\n",
        "Primero, podemos restar b de ambos lados de la ecuación para obtener ax = c - b. Luego, podemos dividir ambos lados de la ecuación por a para obtener x = (c - b) / a."
      ],
      "metadata": {
        "id": "8iQ_kvkEs-xP"
      }
    },
    {
      "cell_type": "code",
      "source": [
        "import numpy as np\n",
        "\n",
        "a = np.array([1, 2, 3])\n",
        "b = np.array([4, 5, 6])\n",
        "c = np.array([7, 8, 9])\n",
        "\n",
        "x = (c - b) / a\n",
        "\n",
        "print(x)\n"
      ],
      "metadata": {
        "id": "jI21H9oDtJ1H"
      },
      "execution_count": null,
      "outputs": []
    },
    {
      "cell_type": "markdown",
      "source": [
        "En este ejemplo, la resta y la división se realizan en cada elemento de los vectores de forma automática gracias al broadcasting de NumPy. Además, la operación se realiza en una sola línea de código gracias a la vectorización de NumPy."
      ],
      "metadata": {
        "id": "Azkn4wvqtP1j"
      }
    },
    {
      "cell_type": "markdown",
      "source": [
        "**Numpy en campos de la Inteligencia Artificial**\n",
        "\n",
        "Son múltiples los usos de la libreria numpy en el campo de la Inteligencia Artificial desde el manejo de dase de datos y realizar operaciones con esta información como en el tratamiento de imagenes. El siguiente es un ejemplo de operaciones con datos que se pueden realizar y que tienen las ventajas descritas anteriormente."
      ],
      "metadata": {
        "id": "B1hSUqgLwaIL"
      }
    },
    {
      "cell_type": "code",
      "source": [
        "import numpy as np\n",
        "\n",
        "# Crear una matriz aleatoria de 3x3\n",
        "matriz = np.random.rand(3, 3)\n",
        "\n",
        "# Imprimir la matriz\n",
        "print(\"Matriz:\")\n",
        "print(matriz)\n",
        "\n",
        "# Calcular la traspuesta de la matriz\n",
        "traspuesta = np.transpose(matriz)\n",
        "\n",
        "# Imprimir la traspuesta de la matriz\n",
        "print(\"Traspuesta:\")\n",
        "print(traspuesta)\n",
        "\n",
        "# Calcular la inversa de la matriz\n",
        "inversa = np.linalg.inv(matriz)\n",
        "\n",
        "# Imprimir la inversa de la matriz\n",
        "print(\"Inversa:\")\n",
        "print(inversa)\n",
        "\n",
        "# Calcular el determinante de la matriz\n",
        "determinante = np.linalg.det(matriz)\n",
        "\n",
        "# Imprimir el determinante de la matriz\n",
        "print(\"Determinante:\")\n",
        "print(determinante)\n"
      ],
      "metadata": {
        "colab": {
          "base_uri": "https://localhost:8080/"
        },
        "id": "a93bwOinwaZE",
        "outputId": "afdbee75-d41a-46c2-b461-aea8b2994fa5"
      },
      "execution_count": 14,
      "outputs": [
        {
          "output_type": "stream",
          "name": "stdout",
          "text": [
            "Matriz:\n",
            "[[0.46595979 0.33392691 0.24459914]\n",
            " [0.08415835 0.95999241 0.35250043]\n",
            " [0.75771181 0.57127718 0.97400966]]\n",
            "Traspuesta:\n",
            "[[0.46595979 0.08415835 0.75771181]\n",
            " [0.33392691 0.95999241 0.57127718]\n",
            " [0.24459914 0.35250043 0.97400966]]\n",
            "Inversa:\n",
            "[[ 3.08892082 -0.78106132 -0.49303712]\n",
            " [ 0.77941324  1.13051034 -0.60486996]\n",
            " [-2.86010799 -0.05545671  1.76500145]]\n",
            "Determinante:\n",
            "0.23751545321892487\n"
          ]
        }
      ]
    },
    {
      "cell_type": "markdown",
      "source": [
        "**Actividad 01.02 - Verificar la eficacia y mejora posible de rendimiento del uso de memoria mapeada sobre ndarrays de tamaños grandes**"
      ],
      "metadata": {
        "id": "TnsvgxEmxEhb"
      }
    },
    {
      "cell_type": "markdown",
      "source": [
        "NumPy ofrece la posibilidad de trabajar con ficheros usando memoria mapeada, lo que permite acceder a datos almacenados en un archivo en disco como si estuvieran almacenados en memoria. Esta técnica puede mejorar el rendimiento del código al evitar la necesidad de cargar todos los datos en memoria RAM.\n",
        "\n",
        "\n",
        "La memoria mapeada es una técnica que se utiliza para mapear una parte de un archivo en la memoria del sistema operativo. Esta técnica permite el acceso a los datos almacenados en el archivo sin tener que leerlos en su totalidad en la memoria principal. En el contexto de NumPy, esto significa que en lugar de cargar toda la matriz en la memoria principal, solo se cargará una porción de ella en la memoria principal, lo que puede mejorar el rendimiento y reducir el uso de memoria.\n",
        "\n",
        "*Ejemplo*\n",
        "\n",
        "Para verificar la eficacia y mejora posible de rendimiento del uso de memoria mapeada sobre ndarrays de tamaños grandes, podemos comparar el tiempo de ejecución y el uso de memoria de dos implementaciones:\n",
        "\n",
        "- Una implementación que carga toda la matriz en la memoria principal utilizando NumPy ndarray.\n",
        "- Una implementación que utiliza memoria mapeada utilizando NumPy memmap.\n",
        "\n",
        "Para hacer una comparación justa, ambas implementaciones deben realizar las mismas operaciones en la matriz."
      ],
      "metadata": {
        "id": "hQaPphrexQbS"
      }
    },
    {
      "cell_type": "code",
      "source": [
        "import numpy as np\n",
        "import time\n",
        "\n",
        "# Crear un archivo de datos grande\n",
        "data = np.random.randn(10000, 10000)\n",
        "np.save(\"data.npy\", data)\n",
        "\n",
        "# Implementación utilizando ndarray\n",
        "start_time = time.time()\n",
        "data = np.load(\"data.npy\")\n",
        "result = np.sum(data)\n",
        "print(\"Tiempo utilizando ndarray: \", time.time() - start_time)\n",
        "print(\"Memoria utilizada utilizando ndarray: \", data.nbytes)\n",
        "\n",
        "# Implementación utilizando memmap\n",
        "start_time = time.time()\n",
        "data = np.memmap(\"data.npy\", dtype='float64', mode='r', shape=(10000, 10000))\n",
        "result = np.sum(data)\n",
        "print(\"Tiempo utilizando memmap: \", time.time() - start_time)\n",
        "print(\"Memoria utilizada utilizando memmap: \", data.nbytes)\n",
        "\n"
      ],
      "metadata": {
        "colab": {
          "base_uri": "https://localhost:8080/"
        },
        "id": "FubB7RyJywNk",
        "outputId": "9c78e4e9-960a-4f14-f57f-b3c3030c91bf"
      },
      "execution_count": 17,
      "outputs": [
        {
          "output_type": "stream",
          "name": "stdout",
          "text": [
            "Tiempo utilizando ndarray:  1.0682194232940674\n",
            "Memoria utilizada utilizando ndarray:  800000000\n",
            "Tiempo utilizando memmap:  0.13780951499938965\n",
            "Memoria utilizada utilizando memmap:  800000000\n"
          ]
        }
      ]
    },
    {
      "cell_type": "markdown",
      "metadata": {
        "id": "vl0X6P2hi4YW"
      },
      "source": [
        "## Artículo 02\n",
        "\n",
        "### Data Structures for Statistical Computing in Python\n",
        "\n",
        "McKinney, W. (2010). Data Structures for Statistical Computing in Python.\n",
        "Proceedings of the 9th Python in Science Conference, December, 56-61.\n",
        "https://doi.org/10.25080/majora-92bf1922-00a\n",
        "\n",
        "https://www.researchgate.net/publication/265001241_Data_Structures_for_Statistical_Computing_in_Python\n",
        "\n",
        "En este segundo artículo el creador de *pandas* introduce dicha librería en comparación con las estructuras nativas de R.\n",
        "\n",
        "- Actividad 02.01 - Desarrollar una opinión razonada del estado actual de las herramientas de análisis de datos estadísticos en contraposición a como se muestran en el artículo, R vs Python vs SQL vs Others..."
      ]
    },
    {
      "cell_type": "markdown",
      "source": [
        "**Actividad 02.01 - Desarrollar una opinión razonada del estado actual de las herramientas de análisis de datos estadísticos en contraposición a como se muestran en el artículo, R vs Python vs SQL vs Others...**"
      ],
      "metadata": {
        "id": "tE22vE0R1dSB"
      }
    },
    {
      "cell_type": "markdown",
      "source": [
        "De acuerdo con el artículo de McKinney de 2010 en el cual se da a conocer desde un punto de vista una comparación entre las estructuras de datos estadísticos en R y Python,mencionando igualmente otras herramientas que en si todas buscan brindar funcionalidad para el manejo y operación de información mediante estructuras de bases de datos principalmente.\n",
        "\n",
        "Este enfoque mencionado en el articulo tiene sus variaciones teniendo presente que día a día la tecnología y las técnicas como lenguajes de programación, herramientas digitales entre muchas otras van evolucionando de manera exponencial generando cambios, modificaciones, actualizaciones y generación de nuevos enfoques. \n",
        "\n",
        "Volviendo a mencionar la comparación entre R y Python ambos lenguajes y sus respectivas herramientas de análisis de datos han evolucionado significativamente. Además, existen otras herramientas de análisis de datos como SQL, SAS, Matlab, entre otras, que también son populares en la industria.\n",
        "\n",
        "A continuación, una pequeña introducción a cada una:\n",
        "\n",
        "- En cuanto a la comparación entre R y Python, ambos lenguajes tienen ventajas y desventajas dependiendo del contexto de uso. Por ejemplo, R es especialmente adecuado para el análisis estadístico y la visualización de datos, y tiene una gran cantidad de paquetes especializados en estadísticas y análisis de datos. Por otro lado, Python tiene una sintaxis más amigable y es más versátil para aplicaciones más allá del análisis de datos, como el aprendizaje automático y la programación web. También tiene una amplia variedad de bibliotecas de análisis de datos y estadísticas, como Pandas, Numpy, Scikit-learn y TensorFlow, que ofrecen una funcionalidad comparable a la de R.\n",
        "\n",
        "\n",
        "- En cuanto a SQL, es un lenguaje especializado para trabajar con bases de datos relacionales, y es muy útil para la extracción y manipulación de grandes conjuntos de datos estructurados. Por otro lado, SQL no es tan flexible para el análisis de datos como R o Python, y no es adecuado para aplicaciones más avanzadas como el aprendizaje automático.\n",
        "\n",
        "- En cuanto a otras herramientas de análisis de datos, como SAS y Matlab, también tienen sus propias fortalezas y debilidades. SAS es una herramienta popular en el mundo empresarial y tiene una gran cantidad de paquetes especializados en análisis de datos y estadísticas, pero es costoso y tiene una curva de aprendizaje pronunciada. Matlab es una herramienta muy utilizada en la academia para la investigación en ciencias e ingeniería, pero también es costosa y no es tan popular en la industria como R o Python.\n",
        "\n",
        "En resumen, cada herramienta de análisis de datos tiene sus propias fortalezas y debilidades, y la elección de una herramienta depende del contexto de uso y las preferencias personales. En general, R y Python son los lenguajes más populares para el análisis de datos en la actualidad, y ambas tienen una amplia variedad de bibliotecas y herramientas disponibles para el análisis de datos y la ciencia de datos.\n"
      ],
      "metadata": {
        "id": "gxOzkHeKza7s"
      }
    },
    {
      "cell_type": "markdown",
      "source": [
        "**Ejemplo usando Python**\n",
        "\n",
        "*Librería pandas*\n",
        "\n",
        "Utilizando la base de datos \"Titanic: Machine Learning from Disaster\" disponible en Kaggle. Esta base de datos contiene información sobre los pasajeros a bordo del Titanic, incluyendo su edad, género, tarifa de boleto, etc., así como si sobrevivieron o no al hundimiento del barco"
      ],
      "metadata": {
        "id": "YGzARNjA1zsD"
      }
    },
    {
      "cell_type": "code",
      "source": [
        "import pandas as pd\n",
        "import matplotlib.pyplot as plt\n",
        "\n",
        "url = 'https://web.stanford.edu/class/archive/cs/cs109/cs109.1166/stuff/titanic.csv'\n",
        "df = pd.read_csv(url)\n",
        "df.head()\n"
      ],
      "metadata": {
        "id": "Q6LiHbrsnp3n",
        "colab": {
          "base_uri": "https://localhost:8080/",
          "height": 206
        },
        "outputId": "9d322574-3644-4e17-93a1-640ea32cba7c"
      },
      "execution_count": 18,
      "outputs": [
        {
          "output_type": "execute_result",
          "data": {
            "text/plain": [
              "   Survived  Pclass                                               Name  \\\n",
              "0         0       3                             Mr. Owen Harris Braund   \n",
              "1         1       1  Mrs. John Bradley (Florence Briggs Thayer) Cum...   \n",
              "2         1       3                              Miss. Laina Heikkinen   \n",
              "3         1       1        Mrs. Jacques Heath (Lily May Peel) Futrelle   \n",
              "4         0       3                            Mr. William Henry Allen   \n",
              "\n",
              "      Sex   Age  Siblings/Spouses Aboard  Parents/Children Aboard     Fare  \n",
              "0    male  22.0                        1                        0   7.2500  \n",
              "1  female  38.0                        1                        0  71.2833  \n",
              "2  female  26.0                        0                        0   7.9250  \n",
              "3  female  35.0                        1                        0  53.1000  \n",
              "4    male  35.0                        0                        0   8.0500  "
            ],
            "text/html": [
              "\n",
              "  <div id=\"df-b130f92e-f825-42fe-b76a-d5a48f85b63f\">\n",
              "    <div class=\"colab-df-container\">\n",
              "      <div>\n",
              "<style scoped>\n",
              "    .dataframe tbody tr th:only-of-type {\n",
              "        vertical-align: middle;\n",
              "    }\n",
              "\n",
              "    .dataframe tbody tr th {\n",
              "        vertical-align: top;\n",
              "    }\n",
              "\n",
              "    .dataframe thead th {\n",
              "        text-align: right;\n",
              "    }\n",
              "</style>\n",
              "<table border=\"1\" class=\"dataframe\">\n",
              "  <thead>\n",
              "    <tr style=\"text-align: right;\">\n",
              "      <th></th>\n",
              "      <th>Survived</th>\n",
              "      <th>Pclass</th>\n",
              "      <th>Name</th>\n",
              "      <th>Sex</th>\n",
              "      <th>Age</th>\n",
              "      <th>Siblings/Spouses Aboard</th>\n",
              "      <th>Parents/Children Aboard</th>\n",
              "      <th>Fare</th>\n",
              "    </tr>\n",
              "  </thead>\n",
              "  <tbody>\n",
              "    <tr>\n",
              "      <th>0</th>\n",
              "      <td>0</td>\n",
              "      <td>3</td>\n",
              "      <td>Mr. Owen Harris Braund</td>\n",
              "      <td>male</td>\n",
              "      <td>22.0</td>\n",
              "      <td>1</td>\n",
              "      <td>0</td>\n",
              "      <td>7.2500</td>\n",
              "    </tr>\n",
              "    <tr>\n",
              "      <th>1</th>\n",
              "      <td>1</td>\n",
              "      <td>1</td>\n",
              "      <td>Mrs. John Bradley (Florence Briggs Thayer) Cum...</td>\n",
              "      <td>female</td>\n",
              "      <td>38.0</td>\n",
              "      <td>1</td>\n",
              "      <td>0</td>\n",
              "      <td>71.2833</td>\n",
              "    </tr>\n",
              "    <tr>\n",
              "      <th>2</th>\n",
              "      <td>1</td>\n",
              "      <td>3</td>\n",
              "      <td>Miss. Laina Heikkinen</td>\n",
              "      <td>female</td>\n",
              "      <td>26.0</td>\n",
              "      <td>0</td>\n",
              "      <td>0</td>\n",
              "      <td>7.9250</td>\n",
              "    </tr>\n",
              "    <tr>\n",
              "      <th>3</th>\n",
              "      <td>1</td>\n",
              "      <td>1</td>\n",
              "      <td>Mrs. Jacques Heath (Lily May Peel) Futrelle</td>\n",
              "      <td>female</td>\n",
              "      <td>35.0</td>\n",
              "      <td>1</td>\n",
              "      <td>0</td>\n",
              "      <td>53.1000</td>\n",
              "    </tr>\n",
              "    <tr>\n",
              "      <th>4</th>\n",
              "      <td>0</td>\n",
              "      <td>3</td>\n",
              "      <td>Mr. William Henry Allen</td>\n",
              "      <td>male</td>\n",
              "      <td>35.0</td>\n",
              "      <td>0</td>\n",
              "      <td>0</td>\n",
              "      <td>8.0500</td>\n",
              "    </tr>\n",
              "  </tbody>\n",
              "</table>\n",
              "</div>\n",
              "      <button class=\"colab-df-convert\" onclick=\"convertToInteractive('df-b130f92e-f825-42fe-b76a-d5a48f85b63f')\"\n",
              "              title=\"Convert this dataframe to an interactive table.\"\n",
              "              style=\"display:none;\">\n",
              "        \n",
              "  <svg xmlns=\"http://www.w3.org/2000/svg\" height=\"24px\"viewBox=\"0 0 24 24\"\n",
              "       width=\"24px\">\n",
              "    <path d=\"M0 0h24v24H0V0z\" fill=\"none\"/>\n",
              "    <path d=\"M18.56 5.44l.94 2.06.94-2.06 2.06-.94-2.06-.94-.94-2.06-.94 2.06-2.06.94zm-11 1L8.5 8.5l.94-2.06 2.06-.94-2.06-.94L8.5 2.5l-.94 2.06-2.06.94zm10 10l.94 2.06.94-2.06 2.06-.94-2.06-.94-.94-2.06-.94 2.06-2.06.94z\"/><path d=\"M17.41 7.96l-1.37-1.37c-.4-.4-.92-.59-1.43-.59-.52 0-1.04.2-1.43.59L10.3 9.45l-7.72 7.72c-.78.78-.78 2.05 0 2.83L4 21.41c.39.39.9.59 1.41.59.51 0 1.02-.2 1.41-.59l7.78-7.78 2.81-2.81c.8-.78.8-2.07 0-2.86zM5.41 20L4 18.59l7.72-7.72 1.47 1.35L5.41 20z\"/>\n",
              "  </svg>\n",
              "      </button>\n",
              "      \n",
              "  <style>\n",
              "    .colab-df-container {\n",
              "      display:flex;\n",
              "      flex-wrap:wrap;\n",
              "      gap: 12px;\n",
              "    }\n",
              "\n",
              "    .colab-df-convert {\n",
              "      background-color: #E8F0FE;\n",
              "      border: none;\n",
              "      border-radius: 50%;\n",
              "      cursor: pointer;\n",
              "      display: none;\n",
              "      fill: #1967D2;\n",
              "      height: 32px;\n",
              "      padding: 0 0 0 0;\n",
              "      width: 32px;\n",
              "    }\n",
              "\n",
              "    .colab-df-convert:hover {\n",
              "      background-color: #E2EBFA;\n",
              "      box-shadow: 0px 1px 2px rgba(60, 64, 67, 0.3), 0px 1px 3px 1px rgba(60, 64, 67, 0.15);\n",
              "      fill: #174EA6;\n",
              "    }\n",
              "\n",
              "    [theme=dark] .colab-df-convert {\n",
              "      background-color: #3B4455;\n",
              "      fill: #D2E3FC;\n",
              "    }\n",
              "\n",
              "    [theme=dark] .colab-df-convert:hover {\n",
              "      background-color: #434B5C;\n",
              "      box-shadow: 0px 1px 3px 1px rgba(0, 0, 0, 0.15);\n",
              "      filter: drop-shadow(0px 1px 2px rgba(0, 0, 0, 0.3));\n",
              "      fill: #FFFFFF;\n",
              "    }\n",
              "  </style>\n",
              "\n",
              "      <script>\n",
              "        const buttonEl =\n",
              "          document.querySelector('#df-b130f92e-f825-42fe-b76a-d5a48f85b63f button.colab-df-convert');\n",
              "        buttonEl.style.display =\n",
              "          google.colab.kernel.accessAllowed ? 'block' : 'none';\n",
              "\n",
              "        async function convertToInteractive(key) {\n",
              "          const element = document.querySelector('#df-b130f92e-f825-42fe-b76a-d5a48f85b63f');\n",
              "          const dataTable =\n",
              "            await google.colab.kernel.invokeFunction('convertToInteractive',\n",
              "                                                     [key], {});\n",
              "          if (!dataTable) return;\n",
              "\n",
              "          const docLinkHtml = 'Like what you see? Visit the ' +\n",
              "            '<a target=\"_blank\" href=https://colab.research.google.com/notebooks/data_table.ipynb>data table notebook</a>'\n",
              "            + ' to learn more about interactive tables.';\n",
              "          element.innerHTML = '';\n",
              "          dataTable['output_type'] = 'display_data';\n",
              "          await google.colab.output.renderOutput(dataTable, element);\n",
              "          const docLink = document.createElement('div');\n",
              "          docLink.innerHTML = docLinkHtml;\n",
              "          element.appendChild(docLink);\n",
              "        }\n",
              "      </script>\n",
              "    </div>\n",
              "  </div>\n",
              "  "
            ]
          },
          "metadata": {},
          "execution_count": 18
        }
      ]
    },
    {
      "cell_type": "markdown",
      "source": [
        "Se puede realizar análisis estadísticos en los datos. \n",
        "\n",
        "Por ejemplo:\n",
        "\n",
        "- calcular la media de la edad de los pasajeros que sobrevivieron y los que no sobrevivieron."
      ],
      "metadata": {
        "id": "eT99TILg3F0I"
      }
    },
    {
      "cell_type": "code",
      "source": [
        "mean_age_survived = df.loc[df['Survived'] == 1, 'Age'].mean()\n",
        "mean_age_not_survived = df.loc[df['Survived'] == 0, 'Age'].mean()\n",
        "\n",
        "print('Mean age of survivors: {:.2f}'.format(mean_age_survived))\n",
        "print('Mean age of non-survivors: {:.2f}'.format(mean_age_not_survived))\n"
      ],
      "metadata": {
        "colab": {
          "base_uri": "https://localhost:8080/"
        },
        "id": "vO_R9SDy3Eyb",
        "outputId": "3e8f04af-fe66-49f4-f1c1-c35f36432847"
      },
      "execution_count": 19,
      "outputs": [
        {
          "output_type": "stream",
          "name": "stdout",
          "text": [
            "Mean age of survivors: 28.41\n",
            "Mean age of non-survivors: 30.14\n"
          ]
        }
      ]
    },
    {
      "cell_type": "markdown",
      "source": [
        "- trazar un histograma de las edades de los pasajeros que sobrevivieron y los que no sobrevivieron para visualizar mejor las diferencias."
      ],
      "metadata": {
        "id": "neir1-Kf3XQ0"
      }
    },
    {
      "cell_type": "code",
      "source": [
        "plt.hist(df.loc[df['Survived'] == 1, 'Age'], alpha=0.5, label='Survived')\n",
        "plt.hist(df.loc[df['Survived'] == 0, 'Age'], alpha=0.5, label='Not survived')\n",
        "plt.legend()\n",
        "plt.show()\n"
      ],
      "metadata": {
        "colab": {
          "base_uri": "https://localhost:8080/",
          "height": 265
        },
        "id": "zkzafNfU3Xzw",
        "outputId": "54c86aab-0798-4e6c-ce59-eda3357bc2da"
      },
      "execution_count": 20,
      "outputs": [
        {
          "output_type": "display_data",
          "data": {
            "text/plain": [
              "<Figure size 432x288 with 1 Axes>"
            ],
            "image/png": "[encoded data removed]"
          },
          "metadata": {
            "needs_background": "light"
          }
        }
      ]
    },
    {
      "cell_type": "markdown",
      "source": [
        "**REFERENCIAS**\n",
        "\n",
        "1. https://www.unir.net/ingenieria/revista/r-vs-python/\n",
        "2. https://blog.edx.org/es/r-vs-python-para-la-ciencia-de-datos-explicacion-y-consejos-de-aprendizaje\n",
        "3. https://numpy.org/\n",
        "4. https://pandas.pydata.org/"
      ],
      "metadata": {
        "id": "c1wG3lu24Fuz"
      }
    }
  ],
  "metadata": {
    "kernelspec": {
      "display_name": "Python 3 (ipykernel)",
      "language": "python",
      "name": "python3"
    },
    "language_info": {
      "codemirror_mode": {
        "name": "ipython",
        "version": 3
      },
      "file_extension": ".py",
      "mimetype": "text/x-python",
      "name": "python",
      "nbconvert_exporter": "python",
      "pygments_lexer": "ipython3",
      "version": "3.9.13"
    },
    "colab": {
      "provenance": [],
      "include_colab_link": true
    }
  },
  "nbformat": 4,
  "nbformat_minor": 0
}